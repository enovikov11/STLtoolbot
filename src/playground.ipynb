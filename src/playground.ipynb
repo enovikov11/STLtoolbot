{
 "cells": [
  {
   "cell_type": "code",
   "execution_count": null,
   "metadata": {},
   "outputs": [],
   "source": [
    "from tools import init, clear, load, make_mold, boolean, cut_holes, calculate_volume\n",
    "\n",
    "init(\"//RobotoMono-Bold.ttf\")"
   ]
  },
  {
   "cell_type": "code",
   "execution_count": null,
   "metadata": {},
   "outputs": [],
   "source": [
    "clear()\n",
    "diamond = load(\"../../diamond-mold/diamond.stl\")\n",
    "left, right = make_mold(diamond)\n",
    "\n",
    "boolean(left, diamond, \"DIFFERENCE\")\n",
    "boolean(right, diamond, \"DIFFERENCE\")\n",
    "\n",
    "cut_holes(diamond, left, right)\n",
    "\n",
    "calculate_volume(diamond)"
   ]
  }
 ],
 "metadata": {
  "kernelspec": {
   "display_name": "blender_4.0.2",
   "language": "python",
   "name": "blender_4.0.2"
  },
  "language_info": {
   "codemirror_mode": {
    "name": "ipython",
    "version": 3
   },
   "file_extension": ".py",
   "mimetype": "text/x-python",
   "name": "python",
   "nbconvert_exporter": "python",
   "pygments_lexer": "ipython3",
   "version": "3.10.13"
  }
 },
 "nbformat": 4,
 "nbformat_minor": 2
}
