{
 "cells": [
  {
   "cell_type": "code",
   "execution_count": null,
   "metadata": {},
   "outputs": [],
   "source": [
    "from tools import init, clear, load, make_mold\n",
    "\n",
    "init(\"//src//RobotoMono-Bold.ttf\")\n",
    "\n",
    "clear()\n",
    "diamond = load(\"../diamond-mold/diamond.stl\")\n",
    "left, right = make_mold(diamond)"
   ]
  }
 ],
 "metadata": {
  "kernelspec": {
   "display_name": "blender_4.0.2",
   "language": "python",
   "name": "blender_4.0.2"
  },
  "language_info": {
   "codemirror_mode": {
    "name": "ipython",
    "version": 3
   },
   "file_extension": ".py",
   "mimetype": "text/x-python",
   "name": "python",
   "nbconvert_exporter": "python",
   "pygments_lexer": "ipython3",
   "version": "3.10.13"
  }
 },
 "nbformat": 4,
 "nbformat_minor": 2
}
